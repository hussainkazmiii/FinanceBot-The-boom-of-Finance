{
 "cells": [
  {
   "cell_type": "code",
   "execution_count": null,
   "id": "8ecc848b-f9b6-4218-9f4b-62721efa31e9",
   "metadata": {},
   "outputs": [],
   "source": [
    "from langchain.document_loaders import TextLoader"
   ]
  },
  {
   "cell_type": "code",
   "execution_count": null,
   "id": "5d233dcb-5fe4-4b59-b7f1-cbecd359cc92",
   "metadata": {},
   "outputs": [
    {
     "data": {
      "text/plain": [
       "{'source': 'D:\\\\langchain-tutorial\\\\Gen AI Projects\\\\LLM for Finance\\\\notebook\\\\nvda_news_1.txt'}"
      ]
     },
     "execution_count": 6,
     "metadata": {},
     "output_type": "execute_result"
    }
   ],
   "source": [
    "loader = TextLoader(r\"D:\\langchain-tutorial\\Gen AI Projects\\LLM for Finance\\notebook\\nvda_news_1.txt\")\n",
    "data = loader.load()\n",
    "data[0].metadata"
   ]
  },
  {
   "cell_type": "code",
   "execution_count": null,
   "id": "ad8aa9e6-2c58-471a-b578-8a4c0d32ce3b",
   "metadata": {},
   "outputs": [],
   "source": [
    "from langchain.document_loaders.csv_loader import CSVLoader"
   ]
  },
  {
   "cell_type": "code",
   "execution_count": null,
   "id": "5859583c-f335-498c-be28-638e11d9965c",
   "metadata": {},
   "outputs": [
    {
     "data": {
      "text/plain": [
       "{'source': 'Meditation and yoga can improve mental health', 'row': 0}"
      ]
     },
     "execution_count": 12,
     "metadata": {},
     "output_type": "execute_result"
    }
   ],
   "source": [
    "loader = CSVLoader(r\"D:\\langchain-tutorial\\Gen AI Projects\\LLM for Finance\\notebook\\sample_text.csv\", source_column=\"text\")\n",
    "data = loader.load()\n",
    "data[0].metadata"
   ]
  },
  {
   "cell_type": "code",
   "execution_count": null,
   "id": "b0e57e61-a27c-4789-8461-4b4f90a4b405",
   "metadata": {},
   "outputs": [],
   "source": [
    "from langchain.document_loaders import UnstructuredURLLoader"
   ]
  },
  {
   "cell_type": "code",
   "execution_count": null,
   "id": "ee0680ac-914e-42ae-ae28-91e1b0a42d56",
   "metadata": {},
   "outputs": [],
   "source": [
    "loader = UnstructuredURLLoader(\n",
    "    urls = [\n",
    "        \"https://en.wikipedia.org/wiki/Independence_Day_(Pakistan)\",\n",
    "        \"https://nationaltoday.com/pakistan-independence-day/\"\n",
    "    ]\n",
    ")"
   ]
  },
  {
   "cell_type": "code",
   "execution_count": null,
   "id": "96b506ba-1111-4b2c-8153-e079da0f2f49",
   "metadata": {},
   "outputs": [
    {
     "data": {
      "text/plain": [
       "2"
      ]
     },
     "execution_count": 21,
     "metadata": {},
     "output_type": "execute_result"
    }
   ],
   "source": [
    "data = loader.load()\n",
    "len(data)"
   ]
  },
  {
   "cell_type": "code",
   "execution_count": null,
   "id": "81807754-ada6-4ff6-9b1b-99841241e00a",
   "metadata": {},
   "outputs": [
    {
     "data": {
      "text/plain": [
       "{'source': 'https://en.wikipedia.org/wiki/Independence_Day_(Pakistan)'}"
      ]
     },
     "execution_count": 22,
     "metadata": {},
     "output_type": "execute_result"
    }
   ],
   "source": [
    "data[0].metadata"
   ]
  },
  {
   "cell_type": "code",
   "execution_count": null,
   "id": "ab8f5c14-19c3-461d-b927-09a369ebcbc8",
   "metadata": {},
   "outputs": [
    {
     "data": {
      "text/plain": [
       "Document(metadata={'source': 'https://en.wikipedia.org/wiki/Independence_Day_(Pakistan)'}, page_content='Independence Day (Pakistan)\\n\\nالعربية\\n\\nAzərbaycanca\\n\\nবাংলা\\n\\nCatalà\\n\\nDeutsch\\n\\nΕλληνικά\\n\\nEspañol\\n\\nEsperanto\\n\\nفارسی\\n\\nFrançais\\n\\nՀայերեն\\n\\nहिन्दी\\n\\nBahasa Indonesia\\n\\nکٲشُر\\n\\nLatviešu\\n\\nРусский\\n\\nසිංහල\\n\\nSimple English\\n\\nسنڌي\\n\\nСрпски / srpski\\n\\nSvenska\\n\\nతెలుగు\\n\\nاردو\\n\\n中文\\n\\nEdit links\\n\\nThis is a good article. Click here for more information.\\n\\nFrom Wikipedia, the free encyclopedia\\n\\nPublic holiday celebrated on 14 August\\n\\n\"Fourteenth of August\" redirects here. For the date, see 14 August.\\n\\n\"Jashn-e-Azadi\" redirects here. For Indian Independence Day, see Independence Day (India).\\n\\nNot to be confused with Pakistan Day.\\n\\nPakistan Independence Day Fireworks at Minar-e-Pakistan during the 14 August celebrations, where the Lahore Resolution was Passed Official name یومِ آزادی ( Yaum-i Āzādī \\u200d ) Observed\\xa0by Pakistan and Pakistanis worldwide ( Pakistani Diaspora ) Liturgical color Green and White Type National day Significance Commemorates the independence of Pakistan Celebrations Parades, Award ceremonies, singing patriotic songs and the national anthem , speeches by the president and prime minister . Date 14 August Next\\xa0time 14 August 2026 ( 2026-08-14 ) Frequency Annual First\\xa0time 14\\xa0August 1947 (78 years ago) ( 1947-08-14 ) Related\\xa0to Pakistan Day\\n\\nIndependence Day (Urdu: \\u200dیومِ آزادی, romanized: Yaum-i Āzādī\\u200d), observed annually on 14 August, is a national holiday in Pakistan. It commemorates the day when Pakistan achieved independence from the United Kingdom and was declared a sovereign state following the termination of the British Raj at midnight at the end of 14 August 1947. Muhammad Ali Jinnah took the oath as the first governor general of the country on 14 August. The nation came into existence as a result of the Pakistan Movement, which aimed for the creation of an independent Muslim state in the north-western regions of British India via partition.[1][2][3] The movement was led by the All-India Muslim League under the leadership of Muhammad Ali Jinnah. The event was brought forth by the Indian Independence Act 1947 under which the British Raj gave independence to the Dominion of Pakistan which comprised West Pakistan (present-day Pakistan) and East Pakistan (now Bangladesh). That year the day of independence coincided with 27 Ramadan of the Islamic calendar, the eve of which, one of the five nights on which Laylat al-Qadr may occur, is regarded as sacred by Muslims.\\n\\nThe main Independence Day ceremony takes place in Islamabad, where the national flag is hoisted at the Presidential and Parliament buildings. It is followed by the national anthem and live televised speeches by leaders. Usual celebratory events and festivities for the day include flag-raising ceremonies, parades, cultural events, and the playing of patriotic songs. A number of award ceremonies are often held on this day, and Pakistanis hoist the national flag atop their homes or display it prominently on their vehicles and attire.\\n\\nHistory\\n\\n[edit]\\n\\nSee also: History of Pakistan\\n\\nBackground\\n\\n[edit]\\n\\nMain articles: Pakistan Movement and Two-nation theory\\n\\nThe area constituting Pakistan was historically a part of the British Indian Empire throughout much of the nineteenth century. The East India Company began their trade in colonial India in the 17th century, and the company rule started from 1757 when they won the Battle of Plassey.[5] Following the Indian Rebellion of 1857, the Government of India Act 1858 led to the British Crown assuming direct control over much of the Indian subcontinent. All-India Muslim League was founded by the All India Muhammadan Educational Conference at Dhaka, in 1906, in the context of the circumstances that were generated over the division of Bengal in 1905 and the party aimed at creation of a separate Muslim state.[6]\\n\\nThe period after World War I was marked by British reforms such as the Montagu-ford Reforms, but it also witnessed the enactment of the repressive Rowlatt Act and strident calls for self-rule by Indian activists. The widespread discontent of this period crystallized into nationwide non-violent movements of non-cooperation and civil disobedience.[7] The idea for a separate Muslim state in the northwest regions of South Asia was introduced by Allama Iqbal in his speech as the President of the Muslim League in December 1930.[8] Three years later, the name of \"Pakistan\" as a separate state was proposed in a declaration made by Chaudhary Rahmat Ali, in the form of an acronym. It was to comprise the five \"northern units\" of Punjab, Afghania (erstwhile North-West Frontier Province), Kashmir, Sindh, and Baluchistan. Like Iqbal, Bengal was left out of the proposal made by Rehmat Ali.[9]\\n\\nIn the 1940s, as the Indian independence movement intensified, an upsurge of Muslim nationalism helmed by the All-India Muslim League took place, of which Muhammad Ali Jinnah was the most prominent leader.[7]: 195–203 Since a long time, feelings between Hindus and Muslims were intensifying. Being a political party to secure the interests of the Muslim diaspora in British India, the Muslim League played a decisive role during the 1940s in the Indian independence movement and developed into the driving force behind the creation of Pakistan as a Muslim state in South Asia. During a three-day general session of All-India Muslim League from 22–24 March 1940, a formal political statement was presented, known as the Lahore Resolution, which called on for the creation of an independent state for Muslims.[4] In 1956, 23 March also became the date on which Pakistan transitioned from a dominion to a republic, and is known as Pakistan Day.[10]\\n\\nIndependence\\n\\n[edit]\\n\\nIn 1946, the Labour government in Britain, exhausted by recent events such as World War II and numerous riots, realized that it had neither the mandate at home, the support internationally, nor the reliability of the British Indian Army for continuing to control an increasingly restless British India. The reliability of the native forces for continuing their control over an increasingly rebellious India diminished, and so the government decided to end the British rule of the Indian Subcontinent.[7]: 167, 203 [11][12][13] In 1946, the Indian National Congress, being a secular party, demanded a single state.[14][15] The All India Muslim League, who disagreed with the idea of single state, stressed the idea of a separate Pakistan as an alternative.[2][16]: 203 The 1946 Cabinet Mission to India was sent to try to reach a compromise between Congress and the Muslim League, proposing a decentralized state with much power given to local governments, but it was rejected by both of the parties and resulted in a number of riots in South Asia.[17]\\n\\nEventually, in February 1947, Prime Minister Clement Attlee announced that the British government would grant full self-governance to British India by June 1948 at the latest.[18] On 3 June 1947, the British government announced that the principle of division of British India into two independent states was accepted.[18] The successor governments would be given dominion status and would have an implicit right to secede from the British Commonwealth. Viceroy Mountbatten chose 15 August, the second anniversary of Japan\\'s surrender in the World War II, as the date of power transfer.[19] He chose 14 August as the date of the ceremony of power transfer to Pakistan because he wanted to attend the ceremonies in both India and Pakistan.[19][20]\\n\\nThe Indian Independence Act 1947 (10 & 11 Geo 6 c. 30) passed by the Parliament of the United Kingdom divided British India into the two new independent dominions; the Dominion of India (later to become the Republic of India) and the Dominion of Pakistan (later to become the Islamic Republic of Pakistan). The act provided a mechanism for division of the Bengal and Punjab provinces between the two nations (see partition of India), establishment of the office of the Governor-General, conferral of complete legislative authority upon the respective Constituent Assemblies, and division of joint property between the two new countries.[21][22] The act later received royal assent on 18 July 1947.[18] The partition was accompanied by violent riots and mass casualties, and the displacement of nearly 15 million people due to religious violence across the subcontinent; millions of Muslim, Sikh and Hindu refugees trekked the newly drawn borders to Pakistan and India respectively in the months surrounding independence.[23]\\n\\nOn 14 August 1947, the new Dominion of Pakistan became independent and Muhammad Ali Jinnah was sworn in as its first governor general in Karachi.[24] Independence was marked with widespread celebration, but the atmosphere remained heated given the communal riots prevalent during independence in 1947.[7]\\n\\nThe date of independence\\n\\n[edit]\\n\\nSince the transfer of power took place on the midnight of 14 and 15 August, the Indian Independence Act 1947 recognized 15 August as the birthday of both Pakistan and India. The act states;[25]\\n\\n\"As from the fifteenth day of August, nineteen hundred and forty-seven, two independent Dominions shall be set up in India, to be known respectively as India and Pakistan.\"\\n\\nJinnah in his first broadcast to the nation stated;[26][27]\\n\\n\"August 15 is the birthday of the independent and sovereign state of Pakistan. It marks the fulfillment of the destiny of the Muslim nation which made great sacrifices in the past few years to have its homeland.\"\\n\\nThe first commemorative postage stamps of the country, released in July 1948, also gave 15 August 1947 as the independence day,[28] however in subsequent years 14 August was adopted as the independence day.[29] This is because Mountbatten administered the independence oath to Jinnah on the 14th, before leaving for India where the oath was scheduled on the midnight of the 15th.[30] The night of 14–15 August 1947 coincided with 27 Ramadan 1366 of the Islamic calendar, which Muslims regard as a sacred night.[31][32]\\n\\nCelebrations\\n\\n[edit]\\n\\nSee also: Pakistani nationalism\\n\\nPakistan Navy soldiers in a straight line are standing next to their national flag.\\n\\nThe change of guard ceremony takes place at various monuments throughout the country. Here the Pakistan Navy cadets salute the tomb of the father of the nation, Muhammad Ali Jinnah\\n\\n\\n\\nGirls lighting candles at midnight to celebrate the day\\n\\n\\n\\nAn office building in Islamabad illuminated by decorative lighting\\n\\nThe Minar-e-Pakistan sparkling in green colour against the dark background of night\\n\\nIndependence Day fireworks at the Minar-e-Pakistan in Lahore\\n\\n\\n\\nSupreme Court of Pakistan illuminated on 14 August\\n\\nOfficial celebrations\\n\\n[edit]\\n\\nThe independence day is one of the six public holidays observed in Pakistan and is celebrated all across the country.[33] To prepare and finalise the plans for independence day celebrations, meetings are held in the provincial capitals by local governments which are attended by government officials, diplomats, and politicians. Public organisations, educational institutions, and government departments organise seminars, sports competitions, and social and cultural activities leading up to the independence day.[34] In Karachi, drives are initiated to clean and prepare the Mazar-e-Quaid (Jinnah Mausoleum) for the celebration.[35]\\n\\nThe official festivities take place in Islamabad and commence with the raising of the national flag on the Parliament House and the Presidency followed by a 31-gun salute in the capital[36] and a 21-gun salute in provincial capitals.[37][38] The President and Prime Minister of Pakistan address the nation in live telecasts. Government officials, political leaders and celebrities deliver messages or speeches during rallies, ceremonies and events, highlighting Pakistani achievements, goals set for the future, and praise the sacrifices and efforts of national heroes.[39] Government buildings including the Parliament House, Supreme Court, President House and Prime Minister\\'s Secretariat are decorated and illuminated with lights and bright colours.[40] A change of guard takes place at national monuments by the Armed Forces.[40] The Army, Air Force and Navy feature prominently in independence day parades.[41] In the cities around the country, the flag hoisting ceremony is carried out by the nazim (mayor) belonging to the respective constituency, and in various public and private departments, the ceremony is conducted by a senior officer of that organisation.[35] In 2017, the Pakistan International Airlines introduced a special in-flight jam session to entertain passengers traveling on Independence Day, featuring artists singing national songs on board a domestic flight.[42]\\n\\nInternational figures including heads of state, public personalities and diplomats extend their messages of felicitation to Pakistan, and flag raising ceremonies are held across Pakistani diplomatic missions abroad.[43][44][45][46] Overseas dignitaries are invited as chief guests in ceremonies, while their military contingents often participate in parades.[41][47] On the international border, Pakistani paramilitary troops exchange sweets with their cross-border counterparts as a tradition.[48] National flags are displayed on major roads and avenues such as Shahrah-e-Faisal, Shahara-e-Quaideen, and Mazar-e-Quaid Road, leading up to Jinnah\\'s mausoleum in Karachi. The Minar-e-Pakistan in Lahore, where the Pakistan Resolution was passed in 1940, is fully illuminated on the eve of the independence day to signify its importance in the creation of Pakistan.[35]\\n\\nPublic celebrations\\n\\n[edit]\\n\\nAs the month of August begins, special stalls, fun fairs and shops are set up across the country for the sale of national flags, buntings, banners and posters, badges, pictures of national heroes, multimedia and other celebratory items. Vehicles, private buildings, homes, and streets are decorated with national flags, candles, oil lamps, pennants and buntings.[49][50] Businesses engage in rigorous marketing,[51] as do leading designer fashion outlets which stock independence-themed clothing, jewellery and self-adornments.[52]\\n\\nThe day begins with special prayers for the integrity, solidarity, and development of Pakistan in mosques and religious places across the country.[34] Citizens attending independence day parades and other events are usually dressed in Pakistan\\'s official colours, green and white.[40] Many people meet their friends and relatives, dine over Pakistani food,[50][53] and visit recreational spots to mark the holiday. Public functions including elaborate firework shows, street parades, seminars, televised transmissions, music and poetry contests, children\\'s shows and art exhibitions are a common part of the celebrations.[40][51][54] Along with flag hoisting, the national anthem is sung at various government places, schools, residences, and monuments on the day, and patriotic slogans such as Pakistan Zindabad are raised.[40] Musical concerts and dance performances are arranged both inside and outside the country, featuring popular artists.[51][55] Homage is paid to the people who lost their lives during the migration and riots which followed independence in 1947, as well as martyrs of the Pakistan Army and recipients of Nishan-e-Haider, and political figures, famous artists and scientists.[55]\\n\\nImmigrant communities in Pakistan partake in the festivities as well.[56] In countries where there are significant Pakistani communities or which share strong relations with Pakistan, the national colours and flag of Pakistan are frequently illuminated on prominent structures, squares and public monuments as a show of celebration.[57][58][59] The Pakistani diaspora organises cultural events to celebrate independence day, and public parades are held in cities with large Pakistani populations, such as New York, London and Dubai.[60][61][62][63] In addition, some Kashmiris from Indian side of Jammu and Kashmir are known to observe the day, causing friction with Indian authorities.[64]\\n\\nSecurity measures\\n\\n[edit]\\n\\nSecurity measures in the country are intensified as the independence day approaches, especially in major cities and in troubled areas. The security is set up after various representatives of intelligence and investigation agencies meet. High alert is declared in sensitive areas such as the country\\'s capital, to restrict security threats.[65] Despite this, there have been instances where attacks have occurred on independence day by insurgents who boycott the celebrations as a part of their protest.[66][67]\\n\\nOn 13 August 2010, the country witnessed floods causing deaths of 1,600 people and affecting 14 million lives. On account of the calamity, the president made an announcement that there would not be any official celebration of the independence day that year.[68]\\n\\nIn popular culture\\n\\n[edit]\\n\\nSee also: Culture of Pakistan\\n\\nFrom the beginning of August, radio channels play milli naghmay (patriotic songs) and various TV shows and programmes highlighting the history, culture, and achievements of Pakistan are broadcast. Popular national songs like Dil Dil Pakistan and Jazba-e-Junoon are played and sung all over the country.[69] New patriotic songs are also released each year.[70] The film Jinnah released in 1998 follows the story of Jinnah and details the events leading up to the independence of Pakistan.[71] The events during the independence of Pakistan are depicted in many literary and scholarly works. Khushwant Singh\\'s novel Train to Pakistan,[72] Saadat Hasan Manto\\'s short story Toba Tek Singh,[73][better source needed] Larry Collins and Dominique Lapierre\\'s book Freedom at Midnight, and poetic works of Faiz Ahmad Faiz chronicle events during the independence of Pakistan. Ali Pur Ka Aeeli by Mumtaz Mufti is an autobiography narrating the account of bringing his family from Batala to Lahore. Khaak aur Khoon (Dirt and Blood) by Naseem Hijazi describes the sacrifices of Muslims of South Asia during independence.[74] Dastaan, a Pakistani drama serial, based on the novel Bano by Razia Butt, also tells the story of Pakistan Movement and events surrounding the independence of Pakistan.[75]\\n\\nPakistan Post released four commemorative stamps in July 1948 for the country\\'s first independence anniversary. Three of the four stamps depicted places from Pakistan while the fourth stamp depicted a motif. The stamps were inscribed \"15th August 1947\" because of the prevailing confusion of actual date of independence.[28] In 1997, Pakistan celebrated its 50th anniversary of independence. The State Bank of Pakistan issued a special banknote of rupee 5 depicting the tomb of Baha-ud-din Zakariya on 13 August 1997, commemorating the 50th independence day. On the front of the note a star burst is encircled by Fifty Years Anniversary of Freedom in Urdu and \\'1947–1997\\' in numerals.[76]\\n\\nIn November 1997, the 1997 Wills Golden Jubilee Tournament was held in Gaddafi Stadium, Lahore to mark the golden jubilee. During the final of the tournament, Pakistan Cricket Board honoured all the living test cricket captains of Pakistan by parading them in horse-drawn carriages and presenting them with gold medals.[77] On 14 August 2004, Pakistan displayed the largest flag of the time with the dimensions of 340 by 510 feet (100 m × 160 m).[78]\\n\\nSince 2011, the Google Pakistan homepage has featured special doodles designed with Pakistani symbols to mark Pakistan\\'s Independence Day.[79][80][81][82] Such symbols have included the star and crescent, national monuments and colours, historic and artistic representations, geographic landscapes and other national symbols.[83][84] Facebook allows its users in Pakistan to post an independence day status with a Pakistani flag icon on it or greets users in the country with a special message on the home page.[85][86]\\n\\nSee also\\n\\n[edit]\\n\\nflag\\n\\nPakistan portal\\n\\nicon\\n\\nHolidays portal\\n\\nPakistan Day\\n\\nNational symbols of Pakistan\\n\\nPublic holidays in Pakistan\\n\\nReferences\\n\\n[edit]\\n\\n^ Shehabuddin, Elora (2008). Reshaping the Holy: Democracy, Development, and Muslim Women in Bangladesh. Columbia University Press. p. 55. ISBN 978-0-231-14156-7. Ostensibly a homeland for all Indian Muslims, Pakistan was hewed out of the Muslim-majority regions of British India--Sind, Baluchistan, the Northwest Frontier Province, and West Punjab in the northwest and East Bengal in the east.\\n\\n^ a b Khan, Nyla Ali (2013). The Fiction of Nationality in an Era of Transnationalism. Routledge. ISBN 978-1-135-92304-4. Prior to the partition of India in 1947 into two separate nation-states, a group of Western-educated Indian Muslims who constituted the Muslim League, the pivotal Muslim political organization in undivided India, ardently advocated the logical of creating a separate homeland for Indian Muslims.\\n\\n^ Uk Heo (2007). Civil Wars of the World: Major Conflicts Since World War II. ABC-CLIO. pp. 591–. ISBN 978-1-85109-919-1. Archived from the original on 28 July 2020. Retrieved 20 August 2020.\\n\\n^ a b c \"Lahore resolution\". Story of Pakistan: A Multimedia Journey. 1 June 2003. Archived from the original on 3 August 2012. Retrieved 13 August 2012.\\n\\n^ Mirza, Humayun (2002). From Plassey to Pakistan: The Family History of Iskander Mirza, the First President of Pakistan. University Press of America. ISBN 978-0-7618-2349-0. Colonial India is the part of the Indian subcontinent which was under the jurisdiction of European colonial powers, through trade and conquest.\\n\\n^ Jalal, Ayesha (1994) The Sole Spokesman: Jinnah, the Muslim League and the Demand for Pakistan. Cambridge University Press. ISBN 978-0-521-45850-4\\n\\n^ a b c d Metcalf, B.; Metcalf, T. R. (9 October 2006). A Concise History of Modern India (2nd ed.). Cambridge University Press. ISBN 978-0-521-68225-1.\\n\\n^ Shafique Ali Khan (1987), Iqbal\\'s Concept of Separate North-west Muslim State: A Critique of His Allahabad Address of 1930, Markaz-e-Shaoor-o-Adab, Karachi, OCLC 18970794\\n\\n^ Choudhary Rahmat Ali, (1933), Now or Never; Are We to Live or Perish Forever?, pamphlet, published 28 January\\n\\n^ John Stewart Bowman (2000). Columbia chronologies of Asian history and culture. Columbia University Press. p. 372. ISBN 978-0-231-11004-4. Retrieved 22 March 2011.\\n\\n^ Hyam, Ronald (2006). Britain\\'s declining empire: the road to decolonisation, 1918–1968. Cambridge University Press. p. 106. ISBN 978-0-521-68555-9. By the end of 1945, he and the Commander-in-chief, General Auckinleck were advising that there was a real threat in 1946 of large scale anti-British disorder amounting to even a well-organised rising aiming to expel the British by paralysing the administration. ...it was clear to Attlee that everything depended on the spirit and reliability of the Indian Army:\"Provided that they do their duty, armed insurrection in India would not be an insoluble problem. If, however, the Indian Army was to go the other way, the picture would be very different. ...Thus, Wavell concluded, if the army and the police \"failed\" Britain would be forced to go. In theory, it might be possible to revive and reinvigorate the services, and rule for another fifteen to twenty years, but:It is a fallacy to suppose that the solution lies in trying to maintain the status quo. We have no longer the resources, nor the necessary prestige or confidence in ourselves.\\n\\n^ Brown, Judith Margaret (1994). Modern India: the origins of an Asian democracy. Oxford University Press. p. 330. ISBN 978-0-19-873112-2. Archived from the original on 15 August 2020. Retrieved 15 November 2015. India had always been a minority interest in British public life; no great body of public opinion now emerged to argue that war-weary and impoverished Britain should send troops and money to hold it against its will in an empire of doubtful value. By late 1946 both Prime Minister and Secretary of State for India recognised that neither international opinion nor their own voters would stand for any reassertion of the raj, even if there had been the men, money, and administrative machinery with which to do so\\n\\n^ Sarkar, Sumit (1983). Modern India, 1885–1947. Macmillan. p. 418. ISBN 978-0-333-90425-1. Archived from the original on 17 June 2016. Retrieved 15 November 2015. With a war weary army and people and a ravaged economy, Britain would have had to retreat; the Labour victory only quickened the process somewhat.\\n\\n^ Raja Ram Mohun Roy, Keshab Chandra Sen, Surendranath Banerjea, V.O. Chidambaram Pillai, Srinivasa Ramanujan, Sarvepalli Radhakrishnan, Rajkumari Amrit Kaur, Jayaprakash Narayan (1990). Remembering Our Leaders, Volume 3. Children\\'s Book Trust. ISBN 9788170114871. The Indian National Congress and the nationalists of Bengal firmly opposed the partition.{{cite book}}: CS1 maint: multiple names: authors list (link)\\n\\n^ Hanson, Eric O. (16 January 2006). Religion and politics in the international system today. Cambridge University Press. p. 200. ISBN 0-521-61781-2. Retrieved 9 December 2011.\\n\\n^ \"South Asia | India state bans book on Jinnah\". BBC News. 20 August 2009. Archived from the original on 13 March 2016. Retrieved 31 January 2012.\\n\\n^ *Wolpert, Stanley. 2006. Shameful Flight: The Last Years of the British Empire in India. Oxford and New York: Oxford University Press. 272 pages. ISBN 0-19-515198-4.\\n\\n^ a b c Romein, Jan (1962). The Asian Century: a History of Modern Nationalism in Asia. University of California Press. p. 357. ASIN B000PVLKY4. Archived from the original on 26 June 2014. Retrieved 24 July 2012.\\n\\n^ a b Read, Anthony; Fisher, David (1 July 1999). The Proudest Day: India\\'s Long Road to Independence. W. W. Norton & Company. p. 459. ISBN 978-0-393-31898-2. Archived from the original on 21 September 2013. Retrieved 4 August 2012.\\n\\n^ \"India and Pakistan celebrate Independence Day\". The Telegraph (UK). Archived from the original on 25 December 2011. Retrieved 13 August 2012.\\n\\n^ \"Indian Independence Act 1947\". The National Archives, Her Majesty\\'s Government. Archived from the original on 16 February 2015. Retrieved 17 July 2012.\\n\\n^ Laird, Kathleen Fenner (2007). Whose Islam? Pakistani women\\'s political action groups speak out (PhD). Washington University. Archived from the original on 28 June 2014. Retrieved 7 February 2012.\\n\\n^ Keay, John (2000). India: A History. Grove Press. p. 508. ISBN 9780802137975. East to west and west to east perhaps ten million fled for their lives in the greatest exodus in recorded history.\\n\\n^ \"A call to duty\". Government of Pakistan. Archived from the original on 28 October 2006. Retrieved 7 January 2007.\\n\\n^ \"Chapter 30\" (PDF). Indian Independence Act, 1947. p. 3. Archived from the original (PDF) on 12 July 2017. Retrieved 14 August 2012.\\n\\n^ Dutta, Prabhash K (14 August 2020). \"Why Pakistan celebrates Independence Day on August 14 a day before India does\". India Today. Archived from the original on 17 August 2020. Retrieved 22 August 2020.\\n\\n^ \"Was Pakistan created on August 14 or 15?\". The Express Tribune. 15 August 2016. Retrieved 13 August 2022.\\n\\n^ a b Zahedi, Mahbub Jamal (1997). Fifty years of Pakistan stamps. Sanna Publications. p. 17.\\n\\n^ M, I, Choudhary (2006–2007). The Most Comprehensive Colour Catalogue Pakistan Postage Stamps (11 ed.). Lahore, Pakistan. p. 26.{{cite book}}: CS1 maint: location missing publisher (link) CS1 maint: multiple names: authors list (link)\\n\\n^ Farooqui, Tashkeel Ahmed; Sheikh, Ismail (15 August 2016). \"Was Pakistan created on August 14 or 15?\". The Express Tribune. Archived from the original on 16 August 2016. Retrieved 16 August 2016.\\n\\n^ Bhatti, M. Waqar. \"Independence Day: muted affair?\". The News International. Archived from the original on 13 August 2012. Retrieved 13 August 2012.\\n\\n^ Tariq Majeed. \"7\". THE DIVINE IMPRINT ON THE BIRTH OF PAKISTAN. Archived from the original on 29 July 2007. The State of Pakistan came into being on Friday the 15th of August 1947, and, according to the Islamic calendar, on the 27th of Ramadan XE \"27th of Ramadan\" 1366. This is the factual, formal and legal date of the birth of Pakistan.\\n\\n^ Malik, Iftikhar Haider (2006). Culture and customs of Pakistan (Illustrated ed.). Greenwood Publishing Group. p. 152. ISBN 9780313331268. Archived from the original on 4 July 2014. Retrieved 14 August 2012.\\n\\n^ a b \"All set to celebrate I-Day\". The Nation (Pakistani newspaper). 13 August 2012. Archived from the original on 13 August 2012. Retrieved 13 August 2012.\\n\\n^ a b c Sanain. \"Independence Day Of Pakistan: Its History and Celebrations\". Allvoices. Archived from the original on 16 August 2012. Retrieved 13 August 2012.\\n\\n^ \"Independence Day: President, PM call for unity | Pakistan\". Dawn. 14 August 2011. Archived from the original on 14 September 2015. Retrieved 1 January 2012.\\n\\n^ \"Pakistani leaders call for unity on independence day\". Xinhua News Agency. 14 August 2011. Archived from the original on 4 December 2014. Retrieved 13 August 2012.\\n\\n^ \"Pakistan turns green for Independence Day celebrations\". The Express Tribune. 14 August 2012. Archived from the original on 3 March 2016. Retrieved 14 August 2012.\\n\\n^ \"14th August–independence day of Pakistan\". Asian-women-magazine.com. Archived from the original on 1 December 2008. Retrieved 1 January 2012.\\n\\n^ a b c d e \"Independence day in Pakistan\". Timeanddate. Archived from the original on 4 March 2016. Retrieved 13 August 2012.\\n\\n^ a b Anwar, Shahzad (14 August 2017). \"All set to celebrate Independence Day\". The Express Tribune. Archived from the original on 14 August 2017. Retrieved 14 August 2017.\\n\\n^ \"Leo Twins surprise passengers on PIA flight with \\'Dil Dil Pakistan\\'\". The Nation. 14 August 2017. Archived from the original on 14 August 2017. Retrieved 14 August 2017.\\n\\n^ \"Statement by the Prime Minister of Canada on Pakistan\\'s Independence Day\". Prime Minister of Canada. 14 August 2016. Archived from the original on 15 August 2016. Retrieved 14 August 2016.\\n\\n^ \"Statement by the President on Pakistan\\'s Independence Day\". whitehouse.gov. 13 August 2010. Archived from the original on 16 February 2017. Retrieved 14 August 2016 – via National Archives.\\n\\n^ \"Modi extends greetings to Pakistanis on Independence Day\". The Express Tribune. 14 August 2015. Archived from the original on 20 August 2016. Retrieved 14 August 2016.\\n\\n^ \"Green flag unfurls at Pak missions with felicitations poured in from world leaders, diplomats\". Associated Press of Pakistan. 14 August 2020. Archived from the original on 13 January 2021. Retrieved 14 August 2021.\\n\\n^ \"Chinese Vice Premier arrives in Pakistan for Independence Day celebrations\". The Hindu. 13 August 2017. Archived from the original on 12 November 2020. Retrieved 14 August 2017.\\n\\n^ \"Pakistan forces give Indian troops sweets at Wagah on Independence Day\". Dawn. 14 August 2016. Retrieved 15 August 2021.\\n\\n^ Muhammad, Peer (11 August 2011). \"Independence day: prepping for celebrations as the city slumbers in Ramazan\". The Express Tribune. Karachi. Archived from the original on 3 March 2016. Retrieved 13 August 2012.\\n\\n^ a b Waseem, Natasha (12 August 2017). \"Pakistanis outside Pakistan: What August 14 means to them\". The Express Tribune. Archived from the original on 14 August 2017. Retrieved 14 August 2017.\\n\\n^ a b c \"Preparations to mark 70th Independence Day in full swing\". The News. 12 August 2017. Archived from the original on 13 August 2017. Retrieved 14 August 2017.\\n\\n^ Rehman, Maliha (12 August 2016). \"Is Independence Day fashion patriotic or just empty consumerism?\". Dawn. Archived from the original on 13 August 2016. Retrieved 13 August 2016.\\n\\n^ \"Pakistan Independence Day: Top 7 Pakistani restaurants to celebrate\". Gulf News. 14 August 2017. Archived from the original on 14 August 2017. Retrieved 14 August 2017.\\n\\n^ \"Colours of the nation: Artists celebrate Independence Day\". The Express Tribune. 13 August 2017. Archived from the original on 14 August 2017. Retrieved 14 August 2017.\\n\\n^ a b \"Shaukat Ali to perform in various concerts on Independence Day\". Radio Pakistan. 9 August 2016. Archived from the original on 15 August 2016. Retrieved 14 August 2016.\\n\\n^ Khattak, Sohail (15 August 2011). \"Independence Day: We are Pakistanis now, say Afghans\". The Express Tribune. Archived from the original on 14 August 2017. Retrieved 14 August 2017.\\n\\n^ \"Maleeha rings NASDAQ bell to mark Pakistan\\'s Independence Day\". The Express Tribune. 26 August 2016. Retrieved 14 August 2021. New York\\'s Times Square went green with the Pakistani flag as Independence Day was celebrated at NASDAQ...\\n\\n^ \"Watch: World\\'s tallest building dazzles with Pakistani flag\". The Express Tribune. 14 August 2020. Retrieved 14 August 2021. The world\\'s tallest building, Burj Khalifa, in Dubai was lit up with the colours of Pakistani national flag Friday evening as Pakistanis across the world rejoiced nation\\'s 73rd Independence Day...\\n\\n^ \"World leaders, diplomats extend Independence Day greetings\". The Express Tribune. 14 August 2018. Retrieved 14 August 2021. In Tehran, the Iranian government sponsored billboards featuring landmarks from all provinces of the country as Supreme Leader Ayatollah Syed Ali Khamenei greeted Pakistanis on the occasion.\\n\\n^ \"Pakistanis abroad celebrate Independence Day with zeal\". Associated Press of Pakistan. 14 August 2011. Archived from the original on 4 March 2016. Retrieved 13 August 2012.\\n\\n^ \"Pakistanis to celebrate independence day\". Gulf News. 13 August 2011. Archived from the original on 20 May 2013. Retrieved 13 August 2012.\\n\\n^ \"Pakistanis hold Independence Day parade in New York\". Samaa TV. 24 August 2015. Archived from the original on 26 August 2016. Retrieved 14 August 2016.\\n\\n^ \"Council flags off Pakistani 69th Independence celebrations\". London Borough of Barking and Dagenham. 12 August 2016. Archived from the original on 22 August 2016. Retrieved 14 August 2016.\\n\\n^ Shibli, Murtaza (13 August 2016). \"Why Kashmiris celebrate August 14\". The Express Tribune. Archived from the original on 14 August 2016. Retrieved 14 August 2016.\\n\\n^ Hassan, Ali (14 August 2012). \"I-Day enthusiasm takes cover from high security plan\". Daily Times. Archived from the original on 25 July 2021. Retrieved 14 August 2012.\\n\\n^ \"At least 16 people killed in Pakistan violence\". BBC. 14 August 2010. Archived from the original on 25 November 2010. Retrieved 14 August 2012.\\n\\n^ \"Balochistan govt blocks cell phone services on Independence Day: Report\". The Express Tribune. 14 August 2012. Archived from the original on 31 March 2016. Retrieved 14 August 2012.\\n\\n^ \"Flood-hit Pakistan cancels Independence Day events\". BBC. 13 August 2010. Archived from the original on 30 September 2010. Retrieved 14 August 2012.\\n\\n^ \"Independence Day songs: The old and the new\". The Express Tribune. 14 August 2012. Archived from the original on 4 March 2016. Retrieved 14 August 2012.\\n\\n^ \"PAF releases new national song on 70th Independence Day\". The News. 13 August 2017. Archived from the original on 13 August 2017. Retrieved 14 August 2017.\\n\\n^ Akbar S. Ahmed (17 September 1997). Jinnah, Pakistan and Islamic Identity: The Search for Saladin. Taylor & Francis. pp. 20–. ISBN 978-0-415-14966-2. Archived from the original on 14 July 2014. Retrieved 14 August 2012.\\n\\n^ Singh, Khushwant (1956). Train to Pakistan. India: Chatto & Windus. ISBN 978-0802132215. {{cite book}}: ISBN / Date incompatibility (help)\\n\\n^ \"About the story\". Columbia University. Archived from the original on 15 June 2012. Retrieved 13 August 2012.\\n\\n^ \"Khaak Aur Khoon (Dirt and Blood)\". Goodreads. Archived from the original on 11 April 2016. Retrieved 13 August 2012.\\n\\n^ \"Dastaan: History on TV\". The express tribune. Tribune. Archived from the original on 14 April 2016. Retrieved 14 August 2012.\\n\\n^ \"Commemorative note\". State Bank of Pakistan. Archived from the original on 13 March 2016. Retrieved 13 August 2012.\\n\\n^ Cozier, Craig. \"Wills Golden Jubilee Tournament, 1997–98\". ESPN Cricinfo. Archived from the original on 29 April 2015. Retrieved 13 August 2012.\\n\\n^ \"Flag superlatives\". CRW Flags. Archived from the original on 29 April 2015. Retrieved 13 August 2012. In August of 2004, Pakistan unfurled a 340 × 510 (173,400 square foot) foot National flag. In December 2004, Bahrain unfurled a 318 × 555 foot (176,490 square foot) National flag, breaking Pakistan\\'s short-lived record.\\n\\n^ \"Google Doodle marks Pak I-Day\". The Nation (Pakistan). 15 August 2011. Archived from the original on 13 August 2012. Retrieved 13 August 2012.\\n\\n^ \"Google Doodles for Pakistan!\". The News. 14 August 2011. Archived from the original on 17 August 2012. Retrieved 13 August 2012.\\n\\n^ \"Google Doodles mark South Korea, Pakistan Independence Day\". OneIndia News. 15 August 2011. Archived from the original on 11 March 2016. Retrieved 13 August 2012.\\n\\n^ \"Google Celebrates Pakistan\\'s Independence Day With A Doodle\". International Business Times. 14 August 2012. Archived from the original on 16 August 2012. Retrieved 14 August 2012.\\n\\n^ Google Doodle For Pakistan, geo.tv, 14 August 2011, archived from the original on 17 February 2013, retrieved 14 August 2011\\n\\n^ Tabinda Hussain (13 August 2012). \"Google Celebrates Pakistan\\'s Independence Day With A Doodle\". ValueWalk. Archived from the original on 9 October 2015. Retrieved 14 August 2012.\\n\\n^ \"Google, Facebook join Pakistanis in celebrating Independence Day\". Express Tribune. 14 August 2015. Archived from the original on 4 March 2016. Retrieved 14 August 2015.\\n\\n^ \"Facebook, Google celebrate Pakistan\\'s Independence Day\". The Express Tribune. 14 August 2016. Archived from the original on 15 August 2016. Retrieved 14 August 2016.\\n\\nExternal links\\n\\n[edit]\\n\\n\\n\\nWikimedia Commons has media related to Independence Day of Pakistan.\\n\\nPakistan\\'s Independence Day US department of State article\\n\\nFlag hoisting ceremony held at German consulate\\n\\nv t e Pakistan Movement History of Pakistan ( timeline: 1947–present) History East India Company Indian Rebellion of 1857 Deobandi movement Barelvi movement Aligarh Movement Urdu movement Partition of Bengal Lucknow Pact Khilafat Movement Shuddhi movement Nehru Report Fourteen Points of Jinnah Allahabad Address Now or Never pamphlet World War II Two-nation theory Round Table Conferences Lahore Resolution Direct Action Day Muslim nationalism in South Asia Cabinet Mission Indian Independence Act Partition of India Partition of Bengal Partition of Punjab Radcliffe Line Durand Line Objectives Resolution Independence Monarchy of Pakistan Pakistan Day Kashmir conflict National symbols Constitution of Pakistan British influence Protestant Islam The leaders of the Muslim League, 1940. Jinnah is seated at centre. Flag of Pakistan State emblem of Pakistan Organisations Muslim League Punjab Branch Bengal Branch Unionist Student Federations Khaksar movement Renaissance Society Philosophical Congress Print media Dawn Daily Jang Nawa-i-waqt Contractor Leaders Sir Syed Ahmad Khan Aga Khan III Khwaja Salimullah (Nawab Salimullah) Syed Ameer Ali Mohammad Ali Jauhar Maulana Shaukat Ali Hakim Ajmal Khan Muhammad Iqbal Muhammad Ali Jinnah Fatima Jinnah Liaquat Ali Khan Sadeq Mohammad Khan V Mian Muhammad Shafi Mian Abdul Rashid Nawab Waqar-ul-Mulk Kamboh Mohsin-ul-Mulk Bahadur Yar Jung Baba-e-Urdu Maulvi Abdul Haq Abdul Qayyum Khan Abdur Rab Nishtar Chaudhry Khaliquzzaman Choudhry Rahmat Ali A. K. Fazlul Huq Jamaat Ali Shah G. M. Syed Ghazanfar Ali Khan Mir Jaffar Khan Jamali Ghulam Bhik Nairang Hasrat Mohani Nawab Mohammad Ismail Khan Huseyn Shaheed Suhrawardy Jogendra Nath Mandal K. H. Khurshid Khawaja Nazimuddin Mahmud Husain Mohammad Amir Ahmed Khan (Raja Saheb of Mahmudabad) Muhammad Zafarullah Khan Qazi Muhammad Isa Ra\\'ana Liaquat Ali Khan Ashraf Ali Thanwi Shabbir Ahmad Usmani Zafar Ali Khan more Activists Hamid Nizami Abdullah Haroon Yusuf Haroon Mahmoud Haroon Altaf Husain Adamjee Haji Dawood Muhammad Shafi Zafar Ahmad Usmani Abul Hassan Ispahani Ahmed Ali Lahori Malik Barkat Ali Aslam Khattak Yusuf Khattak Mian Iftikharuddin M.A. Zuberi Shahnawaz Khan Mamdot Iftikhar Hussain Khan Mamdot Sikandar Hayat Khan Shaukat Hayat Khan Muhammad Asad Ziauddin Ahmad Abu Bakr Ahmad Haleem Maulana Ghulam Rasool Mehr Hakeem Muhammad Saeed Chaudhry Ghulam Abbas Muhammad Abdul Qayyum Khan Sardar Ibrahim Khan Fida Mohammad Khan Sheikh Sir Abdul Qadir M. M. Sharif Sahibzada Abdul Qayyum Jalaludin Abdur Rahim Z. A. Suleri G. Allana Ishtiaq Hussain Qureshi Jalal Baba of NWFP Mohammad Abdul Ghafoor Hazarvi Karam Shah al-Azhari Amin ul-Hasanat (Pir of Manki Sharif) Syed Wajid Ali Hafeez Jalandhari Jahanara Shahnawaz Lady Abdullah Haroon Muhammad Ismail Zabeeh Fatima Begum Naseer Ahmad Malhi Ahmed Saeed Nagi Niaz Ali Khan Amir Habibullah Khan Saadi Habib Rahimtoola Sharif al Mujahid Fatima Sughra Begum Abdul Sattar Khan Niazi Viqar-un-Nisa Noon Amir Abdullah Khan Rokhri Abdul Hamid Qadri Badayuni Sardar Aurang Zeb Khan Abdullah Ropari Muhammad Ibrahim Mir Sialkoti more Literature Allahabad Address ( Idea of Pakistan ) Jinnah: India, Partition, Independence Notes on Afghanistan and Baluchistan Pakistan: A Personal History The Myth of Independence Pakistan: A Hard Country Pakistan Declaration ( Now or Never; Are We to Live or Perish Forever? ) Causes of Indian Mutiny of 1857 Architecture Minar-e-Pakistan Bab-e-Pakistan Pakistan Monument Mazar-e-Quaid Quaid-e-Azam / Ziarat Residency Iqbal\\'s Tomb Wazir Mansion National Library Khaliq Dina Hall Bab-e-Khyber Jinnah Terminal In Memory Youm-e-Pakistan ( 23 March ) Youm-e-Dastur ( 10 April ) Youm-e-Takbir ( 28 May ) Youm-e-Azadi ( 14 August ) Youm-e-Difah ( 6 September ) Youm-e-Tasees ( 24 October ) Youm-e-Iqbal ( 9 November ) Youm-e-Viladat ( 25 December )\\n\\nv t e National symbols of Pakistan Main symbols Qaumi Taranah (national anthem) State emblem of Pakistan Flag of Pakistan Faith, Unity, Discipline (motto) Urdu (national language) People Muhammad Ali Jinnah (Father of the Nation) Muhammad Iqbal (National poet) Fatima Jinnah (Mother of the Nation) Other symbols Cedrus deodara (national tree) Chukar partridge (national bird) Jasminum officinale (national flower) Markhor (national animal) Snow leopard (national animal) Structures Faisal Mosque (mosque) Mazar-e-Quaid (mausoleum) Minar-e-Pakistan (monument) Pakistan Monument (monument)\\n\\nv t e Public holidays in Pakistan Kashmir Solidarity Day Pakistan Day Labour Day Independence Day Quaid-e-Azam Day Eid ul-Adha Eid-ul-Fitr Eid Milad-un-Nabi Defence Day Youm-e-Takbir Eid-e-Milad an-Nabi\\n\\nRetrieved from \"https://en.wikipedia.org/w/index.php?title=Independence_Day_(Pakistan)&oldid=1305985334\"\\n\\nCategories:\\n\\nAugust observances\\n\\n1947 establishments in Pakistan\\n\\nIndependence days\\n\\nPakistan Movement\\n\\nPakistani nationalism\\n\\nPublic holidays in Pakistan\\n\\nHidden categories:\\n\\nCS1 maint: multiple names: authors list\\n\\nCS1 maint: location missing publisher\\n\\nCS1 errors: ISBN date\\n\\nArticles with short description\\n\\nShort description is different from Wikidata\\n\\nGood articles\\n\\nUse Pakistani English from May 2014\\n\\nAll Wikipedia articles written in Pakistani English\\n\\nUse dmy dates from January 2024\\n\\nArticles containing Urdu-language text\\n\\nInfobox holiday fixed day (2)\\n\\nAll articles lacking reliable references\\n\\nArticles lacking reliable references from April 2019\\n\\nCommons category link is on Wikidata')"
      ]
     },
     "execution_count": 23,
     "metadata": {},
     "output_type": "execute_result"
    }
   ],
   "source": [
    "data[0]"
   ]
  },
  {
   "cell_type": "code",
   "execution_count": null,
   "id": "41e5a2c7-18c5-40ae-a821-81ea023d44f8",
   "metadata": {},
   "outputs": [],
   "source": [
    "# Taking some random text from wikipedia\n",
    "\n",
    "text = \"\"\"Interstellar is a 2014 epic science fiction film co-written, directed, and produced by Christopher Nolan. \n",
    "It stars Matthew McConaughey, Anne Hathaway, Jessica Chastain, Bill Irwin, Ellen Burstyn, Matt Damon, and Michael Caine. \n",
    "Set in a dystopian future where humanity is embroiled in a catastrophic blight and famine, the film follows a group of astronauts who travel through a wormhole near Saturn in search of a new home for humankind.\n",
    "\n",
    "Brothers Christopher and Jonathan Nolan wrote the screenplay, which had its origins in a script Jonathan developed in 2007 and was originally set to be directed by Steven Spielberg. \n",
    "Kip Thorne, a Caltech theoretical physicist and 2017 Nobel laureate in Physics,[4] was an executive producer, acted as a scientific consultant, and wrote a tie-in book, The Science of Interstellar. \n",
    "Cinematographer Hoyte van Hoytema shot it on 35 mm movie film in the Panavision anamorphic format and IMAX 70 mm. Principal photography began in late 2013 and took place in Alberta, Iceland, and Los Angeles. \n",
    "Interstellar uses extensive practical and miniature effects, and the company Double Negative created additional digital effects.\n",
    "\n",
    "Interstellar premiered in Los Angeles on October 26, 2014. In the United States, it was first released on film stock, expanding to venues using digital projectors. The film received generally positive reviews from critics and grossed over $677 million worldwide ($715 million after subsequent re-releases), making it the tenth-highest-grossing film of 2014. \n",
    "It has been praised by astronomers for its scientific accuracy and portrayal of theoretical astrophysics.[5][6][7] Interstellar was nominated for five awards at the 87th Academy Awards, winning Best Visual Effects, and received numerous other accolades.\"\"\""
   ]
  },
  {
   "cell_type": "code",
   "execution_count": null,
   "id": "6cc095a2-d3d2-4eca-91ca-86aa3f5d52be",
   "metadata": {},
   "outputs": [
    {
     "data": {
      "text/plain": [
       "'Interstellar is a 2014 epic science fiction film co-written, directed, and produced by Christopher N'"
      ]
     },
     "execution_count": 25,
     "metadata": {},
     "output_type": "execute_result"
    }
   ],
   "source": [
    "# Say LLM token limit is 100, in that case we can do simple thing such as this\n",
    "\n",
    "text[0:100]"
   ]
  },
  {
   "cell_type": "code",
   "execution_count": null,
   "id": "9c5bcb84-6d6c-4a4a-902c-1e20c10ee229",
   "metadata": {},
   "outputs": [
    {
     "data": {
      "text/plain": [
       "264"
      ]
     },
     "execution_count": 26,
     "metadata": {},
     "output_type": "execute_result"
    }
   ],
   "source": [
    "# Well but we want complete words and want to do this for entire text, may be we can use Python's split funciton\n",
    "\n",
    "words = text.split(\" \")\n",
    "len(words)"
   ]
  },
  {
   "cell_type": "code",
   "execution_count": null,
   "id": "beda4042-9eac-40c4-afad-cc53eedda959",
   "metadata": {},
   "outputs": [
    {
     "data": {
      "text/plain": [
       "['Interstellar is a 2014 epic science fiction film co-written, directed, and produced by Christopher Nolan. \\nIt stars Matthew McConaughey, Anne Hathaway, Jessica Chastain, Bill Irwin, Ellen Burstyn, Matt ',\n",
       " 'Damon, and Michael Caine. \\nSet in a dystopian future where humanity is embroiled in a catastrophic blight and famine, the film follows a group of astronauts who travel through a wormhole near Saturn in ']"
      ]
     },
     "execution_count": 28,
     "metadata": {},
     "output_type": "execute_result"
    }
   ],
   "source": [
    "chunks = []\n",
    "\n",
    "s = \"\"\n",
    "for word in words:\n",
    "    s += word + \" \"\n",
    "    if len(s)>200:\n",
    "        chunks.append(s)\n",
    "        s = \"\"\n",
    "        \n",
    "chunks.append(s)\n",
    "chunks[:2]\n"
   ]
  },
  {
   "cell_type": "code",
   "execution_count": null,
   "id": "18833b5d-b283-4b05-b128-90df71aec802",
   "metadata": {},
   "outputs": [],
   "source": [
    "from langchain.text_splitter import CharacterTextSplitter\n",
    "\n",
    "splitter = CharacterTextSplitter(\n",
    "    separator = \"\\n\",\n",
    "    chunk_size=200,\n",
    "    chunk_overlap=0\n",
    ")"
   ]
  },
  {
   "cell_type": "code",
   "execution_count": null,
   "id": "26fd6d2b-6576-4eae-9ced-135d07546c8d",
   "metadata": {},
   "outputs": [
    {
     "name": "stderr",
     "output_type": "stream",
     "text": [
      "WARNING:langchain_text_splitters.base:Created a chunk of size 210, which is longer than the specified 200\n",
      "WARNING:langchain_text_splitters.base:Created a chunk of size 208, which is longer than the specified 200\n",
      "WARNING:langchain_text_splitters.base:Created a chunk of size 358, which is longer than the specified 200\n"
     ]
    },
    {
     "data": {
      "text/plain": [
       "9"
      ]
     },
     "execution_count": 30,
     "metadata": {},
     "output_type": "execute_result"
    }
   ],
   "source": [
    "chunks = splitter.split_text(text) # we can see irregular size of chunks becuz of single seperator\n",
    "len(chunks)"
   ]
  },
  {
   "cell_type": "code",
   "execution_count": null,
   "id": "aa6eb3e7-fa8c-4c7e-afbe-e7f7ba456745",
   "metadata": {},
   "outputs": [
    {
     "name": "stdout",
     "output_type": "stream",
     "text": [
      "105\n",
      "120\n",
      "210\n",
      "181\n",
      "197\n",
      "207\n",
      "128\n",
      "357\n",
      "253\n"
     ]
    }
   ],
   "source": [
    "for chunk in chunks:\n",
    "    print(len(chunk))"
   ]
  },
  {
   "cell_type": "code",
   "execution_count": null,
   "id": "8b2b9a63-693f-41c0-aba3-dd11c7b5e068",
   "metadata": {},
   "outputs": [
    {
     "data": {
      "text/plain": [
       "54"
      ]
     },
     "execution_count": 41,
     "metadata": {},
     "output_type": "execute_result"
    }
   ],
   "source": [
    "from langchain.text_splitter import RecursiveCharacterTextSplitter\n",
    "\n",
    "r_splitter = RecursiveCharacterTextSplitter(\n",
    "    separators= [\"\\n\\n\",\"\\n\",\" \"],\n",
    "    chunk_size=200,\n",
    "    chunk_overlap=0 )\n",
    "chunks = r_splitter.split_text(text)\n",
    "len(chunk)"
   ]
  },
  {
   "cell_type": "code",
   "execution_count": null,
   "id": "7b26cc7f-22b1-4439-9784-bc1276151f23",
   "metadata": {},
   "outputs": [
    {
     "name": "stdout",
     "output_type": "stream",
     "text": [
      "105\n",
      "120\n",
      "199\n",
      "10\n",
      "181\n",
      "197\n",
      "198\n",
      "8\n",
      "128\n",
      "191\n",
      "165\n",
      "198\n",
      "54\n"
     ]
    }
   ],
   "source": [
    "for chunk in chunks:\n",
    "    print(len(chunk))"
   ]
  }
 ],
 "metadata": {
  "kernelspec": {
   "display_name": "Python(LLM-finance)",
   "language": "python",
   "name": ".venv"
  },
  "language_info": {
   "codemirror_mode": {
    "name": "ipython",
    "version": 3
   },
   "file_extension": ".py",
   "mimetype": "text/x-python",
   "name": "python",
   "nbconvert_exporter": "python",
   "pygments_lexer": "ipython3",
   "version": "3.11.0"
  }
 },
 "nbformat": 4,
 "nbformat_minor": 5
}
